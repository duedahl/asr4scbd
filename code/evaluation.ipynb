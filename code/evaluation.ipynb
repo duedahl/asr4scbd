{
 "cells": [
  {
   "cell_type": "markdown",
   "id": "1a1c49b3",
   "metadata": {},
   "source": [
    "# Evaluation"
   ]
  },
  {
   "cell_type": "code",
   "execution_count": 11,
   "id": "3aa5e2ce",
   "metadata": {},
   "outputs": [],
   "source": [
    "from transformers import Wav2Vec2CTCTokenizer, Wav2Vec2FeatureExtractor, Wav2Vec2Processor\n",
    "from datasets import load_dataset, Dataset\n",
    "import torch\n",
    "from dataclasses import dataclass, field\n",
    "from typing import Any, Dict, List, Optional, Union\n",
    "import numpy as np\n",
    "from transformers import Wav2Vec2ForCTC, TrainingArguments, Trainer\n",
    "import evaluate\n",
    "import os\n",
    "import random\n",
    "import pandas as pd\n",
    "from IPython.core.display import HTML"
   ]
  },
  {
   "cell_type": "code",
   "execution_count": 12,
   "id": "614cf53c",
   "metadata": {},
   "outputs": [
    {
     "name": "stdout",
     "output_type": "stream",
     "text": [
      "Using device: cpu\n"
     ]
    }
   ],
   "source": [
    "BASE_PATH = \".\"\n",
    "FIGURE_PATH = os.path.join(BASE_PATH, \"figures\")\n",
    "RUNS_PATH = os.path.join(BASE_PATH, \"runs\")\n",
    "DATASETS_PATH = os.path.join(BASE_PATH, \"datasets\")\n",
    "SAMPLING_RATE = 200 * 10**6\n",
    "datasetPath = lambda name: os.path.join(DATASETS_PATH, name)\n",
    "device = torch.device(\"cuda\" if torch.cuda.is_available() else \"cpu\")\n",
    "print(f\"Using device: {device}\")"
   ]
  },
  {
   "cell_type": "code",
   "execution_count": 13,
   "id": "6db8e0a7",
   "metadata": {},
   "outputs": [],
   "source": [
    "def load_model(model_path):\n",
    "\n",
    "    processor = Wav2Vec2Processor.from_pretrained(model_path)\n",
    "    model = Wav2Vec2ForCTC.from_pretrained(model_path).to(device)\n",
    "    model.eval()\n",
    "\n",
    "    return model, processor"
   ]
  },
  {
   "cell_type": "code",
   "execution_count": 14,
   "id": "4f12b043",
   "metadata": {},
   "outputs": [],
   "source": [
    "def show_random_elements(dataset, num_examples=5):\n",
    "    assert num_examples <= len(dataset), \"Can't pick more elements than there are in the dataset.\"\n",
    "    picks = []\n",
    "    for _ in range(num_examples):\n",
    "        pick = random.randint(0, len(dataset)-1)\n",
    "        while pick in picks:\n",
    "            pick = random.randint(0, len(dataset)-1)\n",
    "        picks.append(pick)\n",
    "    \n",
    "    df = pd.DataFrame(dataset[picks])\n",
    "    display(HTML(df.to_html()))"
   ]
  },
  {
   "cell_type": "code",
   "execution_count": 15,
   "id": "613ecb3c",
   "metadata": {},
   "outputs": [],
   "source": [
    "def expand_dataset_with_repetitions(dataset, processor, shuffle=True):\n",
    "    \"\"\"\n",
    "    Expand each matrix entry into N separate dataset entries, each with the same labels\n",
    "    \"\"\"\n",
    "    expanded_data = {\n",
    "        \"input_values\": [],\n",
    "        \"input_length\": [],\n",
    "        \"labels\": [],\n",
    "        \"program_label\": []  # Keep original text labels for reference\n",
    "    }\n",
    "    \n",
    "    for example in dataset:\n",
    "        # Load numpy trace data\n",
    "        traces = np.load(example[\"traces\"])\n",
    "\n",
    "        # Handle both single traces and matrices\n",
    "        if traces.ndim == 1:\n",
    "            # Single trace - keep as one entry\n",
    "            traces = [traces]\n",
    "        else:\n",
    "            # Matrix - each row becomes a separate entry\n",
    "            traces = [traces[j] for j in range(traces.shape[0])]\n",
    "        \n",
    "        # Process labels once for this example\n",
    "        processed_labels = processor(text=example[\"program_label\"]).input_ids\n",
    "        \n",
    "        # Create separate dataset entries for each trace repetition\n",
    "        for trace in traces:\n",
    "            # Process the trace\n",
    "            processed_trace = processor(trace, sampling_rate=SAMPLING_RATE).input_values[0]\n",
    "            \n",
    "            # Add to expanded dataset\n",
    "            expanded_data[\"input_values\"].append(processed_trace)\n",
    "            expanded_data[\"input_length\"].append(len(processed_trace))\n",
    "            expanded_data[\"labels\"].append(processed_labels)\n",
    "            expanded_data[\"program_label\"].append(example[\"program_label\"])\n",
    "        \n",
    "    if shuffle:\n",
    "        # Convert to list of indices and shuffle\n",
    "        indices = list(range(len(expanded_data[\"input_values\"])))\n",
    "        random.shuffle(indices)\n",
    "        \n",
    "        # Reorder all lists according to shuffled indices\n",
    "        for key in expanded_data:\n",
    "            expanded_data[key] = [expanded_data[key][i] for i in indices]\n",
    "    \n",
    "    return expanded_data\n",
    "\n",
    "def prepare_data(dataset_path, processor):\n",
    "    from datasets import DatasetDict\n",
    "    # Set up data\n",
    "    splits = [\"train\", \"val\", \"test\"]\n",
    "    data_paths = [os.path.join(dataset_path, f\"{split}.json\") for split in splits]\n",
    "    data_files = {split: path for split, path in zip(splits, data_paths)}\n",
    "    data = load_dataset(\"json\", data_files=data_files, field=\"batches\")\n",
    "\n",
    "    print(\"Expanding datasets with repetitions...\")\n",
    "\n",
    "    # Expand each split\n",
    "    expanded_datasets = {}\n",
    "    for split in splits:\n",
    "        if split in data:\n",
    "            print(f\"Expanding {split} split...\")\n",
    "            expanded_data = expand_dataset_with_repetitions(data[split], processor)\n",
    "            expanded_datasets[split] = Dataset.from_dict(expanded_data)\n",
    "            print(f\"  {split}: {len(data[split])} -> {len(expanded_datasets[split])} examples\")\n",
    "\n",
    "    # Create the final dataset\n",
    "    return DatasetDict(expanded_datasets)"
   ]
  },
  {
   "cell_type": "code",
   "execution_count": 16,
   "id": "13284953",
   "metadata": {},
   "outputs": [],
   "source": [
    "# Load the WER metric\n",
    "def compute_metrics(pred, processor):\n",
    "    import evaluate\n",
    "\n",
    "    # Load the WER metric\n",
    "    wer_metric = evaluate.load(\"wer\")\n",
    "\n",
    "    pred_logits = pred.predictions\n",
    "    pred_ids = np.argmax(pred_logits, axis=-1)\n",
    "\n",
    "    # Create a copy to avoid modifying original\n",
    "    label_ids = pred.label_ids.copy()\n",
    "    label_ids[label_ids == -100] = processor.tokenizer.pad_token_id\n",
    "\n",
    "    pred_str = processor.batch_decode(pred_ids, spaces_between_special_tokens=True)\n",
    "    # we do not want to group tokens when computing the metrics\n",
    "    label_str = processor.batch_decode(label_ids, group_tokens=False, spaces_between_special_tokens=True)\n",
    "\n",
    "    wer = wer_metric.compute(predictions=pred_str, references=label_str)\n",
    "\n",
    "    return {\"wer\": wer}\n"
   ]
  },
  {
   "cell_type": "code",
   "execution_count": 17,
   "id": "6556f4e8",
   "metadata": {},
   "outputs": [],
   "source": [
    "def word_substitution_matrix(results, name=None):\n",
    "    import jiwer\n",
    "    from collections import Counter\n",
    "    import matplotlib.pyplot as plt\n",
    "    import seaborn as sns\n",
    "    import pandas as pd\n",
    "    import os\n",
    "\n",
    "    measures = jiwer.compute_measures(results[\"text\"], results[\"pred_str\"])\n",
    "\n",
    "    substitutions = []\n",
    "    correct_words = []\n",
    "    \n",
    "    for i in range(len(results[\"text\"])):\n",
    "        ops = measures[\"ops\"][i]\n",
    "        ref = results[\"text\"][i].split(\" \")\n",
    "        hyp = results[\"pred_str\"][i].split(\" \")\n",
    "        \n",
    "        # Track which positions have operations applied\n",
    "        ref_operated = set()\n",
    "        hyp_operated = set()\n",
    "        \n",
    "        for op in ops:\n",
    "            if op.type == \"substitute\":\n",
    "                ref_range = range(op.ref_start_idx, op.ref_end_idx)\n",
    "                hyp_range = range(op.hyp_start_idx, op.hyp_end_idx)\n",
    "                \n",
    "                # Mark positions as operated on\n",
    "                ref_operated.update(ref_range)\n",
    "                hyp_operated.update(hyp_range)\n",
    "                \n",
    "                # If this isn't the case, substitution is imbalanced.\n",
    "                assert len(ref_range) == len(hyp_range)\n",
    "\n",
    "                for r, h in zip(ref_range, hyp_range):\n",
    "                    substitutions.append((ref[r], hyp[h]))\n",
    "            else:\n",
    "                # For insertions and deletions, mark the positions\n",
    "                if op.type == \"insert\":\n",
    "                    hyp_operated.update(range(op.hyp_start_idx, op.hyp_end_idx))\n",
    "                elif op.type == \"delete\":\n",
    "                    ref_operated.update(range(op.ref_start_idx, op.ref_end_idx))\n",
    "        \n",
    "        # Find correct words (positions not involved in any operation)\n",
    "        # We need to align ref and hyp positions accounting for insertions/deletions\n",
    "        min_len = min(len(ref), len(hyp))\n",
    "        for pos in range(min_len):\n",
    "            if pos not in ref_operated and pos not in hyp_operated:\n",
    "                if pos < len(ref) and pos < len(hyp):\n",
    "                    correct_words.append(ref[pos])\n",
    "\n",
    "    substitutions = Counter(substitutions)\n",
    "    correct_words = Counter(correct_words)\n",
    "\n",
    "    # Get all unique words from both substitutions and correct words\n",
    "    all_words = set()\n",
    "    for ref_word, hyp_word in substitutions.keys():\n",
    "        all_words.add(ref_word)\n",
    "        all_words.add(hyp_word)\n",
    "    all_words.update(correct_words.keys())\n",
    "\n",
    "    words = sorted(all_words)\n",
    "\n",
    "    # Create confusion matrix\n",
    "    confusion_matrix = pd.DataFrame(0, index=words, columns=words)\n",
    "\n",
    "    # Add substitutions (off-diagonal elements)\n",
    "    for (ref_word, hyp_word), count in substitutions.items():\n",
    "        confusion_matrix.loc[ref_word, hyp_word] = count\n",
    "    \n",
    "    # Add correct classifications (diagonal elements)\n",
    "    for word, count in correct_words.items():\n",
    "        confusion_matrix.loc[word, word] += count\n",
    "\n",
    "    # Create figure\n",
    "    plt.figure(figsize=(max(8, len(words) * 0.5), max(6, len(words) * 0.4)))\n",
    "    sns.heatmap(confusion_matrix, annot=True, fmt='d', cmap='Blues', \n",
    "                cbar_kws={'label': 'Word Count'})\n",
    "    \n",
    "    if name:\n",
    "        title_prefix = \" \".join(name.split(\"-\")).title() + \" - \"\n",
    "    else:\n",
    "        title_prefix = \"\"\n",
    "    \n",
    "    title = f'{title_prefix}Word Confusion Matrix'\n",
    "    plt.title(title)\n",
    "    plt.xlabel('Hypothesis Words (Predicted)')\n",
    "    plt.ylabel('Reference Words (True)')\n",
    "    plt.tight_layout()\n",
    "    \n",
    "    filename = title.replace(\" \", \"_\") + \".png\"\n",
    "    plt.savefig(os.path.join(FIGURE_PATH, filename))\n",
    "    plt.show()\n",
    "    \n",
    "    return confusion_matrix"
   ]
  },
  {
   "cell_type": "code",
   "execution_count": 18,
   "id": "918f72bc",
   "metadata": {},
   "outputs": [],
   "source": [
    "def antagonist_mcnemar(results):\n",
    "    from statsmodels.stats.contingency_tables import mcnemar\n",
    "    from collections import defaultdict\n",
    "    import jiwer\n",
    "\n",
    "    # Naive hypothesis set up\n",
    "\n",
    "    word_dict = defaultdict(lambda: 0)\n",
    "\n",
    "    for text in results[\"text\"]:\n",
    "        words = text.split(\" \")\n",
    "        for word in words:\n",
    "            word_dict[word] += 1\n",
    "\n",
    "    # Get the most common word and its count\n",
    "    most_common_word = max(word_dict, key=word_dict.get)\n",
    "    most_common_count = word_dict[most_common_word]\n",
    "    print(f\"Most common word: '{most_common_word}' with count: {most_common_count}\")\n",
    "\n",
    "    # Conservative McNemar Metrics\n",
    "    measures = jiwer.compute_measures(results[\"text\"], results[\"pred_str\"])\n",
    "\n",
    "    both_correct = 0\n",
    "    your_correct_naive_wrong = 0\n",
    "    your_wrong_naive_correct = 0\n",
    "    both_wrong = 0\n",
    "\n",
    "    for ref, hyp, ops in zip(results[\"text\"], results[\"pred_str\"], measures[\"ops\"]):\n",
    "        ref_words = ref.split(\" \")\n",
    "        hyp_words = hyp.split(\" \")\n",
    "\n",
    "        for op in ops:\n",
    "            if op.type == 'equal':\n",
    "                # Hypothesis: correct\n",
    "                # Check null\n",
    "                idx_range = range(op.ref_start_idx, op.ref_end_idx)\n",
    "                for i in idx_range:\n",
    "                    ref_word = ref_words[i]\n",
    "                    naive_correct = (most_common_word == ref_word)\n",
    "                    \n",
    "                    if naive_correct:\n",
    "                        both_correct += 1\n",
    "                    else:\n",
    "                        your_correct_naive_wrong += 1\n",
    "                    \n",
    "            elif op.type == 'substitute':\n",
    "                # Hypothesis: incorrect  \n",
    "                # Check null\n",
    "                idx_range = range(op.ref_start_idx, op.ref_end_idx)\n",
    "                for i in idx_range:\n",
    "                    ref_word = ref_words[i]\n",
    "                    naive_correct = (most_common_word == ref_word)\n",
    "                    \n",
    "                    if naive_correct:\n",
    "                        your_wrong_naive_correct += 1\n",
    "                    else:\n",
    "                        both_wrong += 1\n",
    "                    \n",
    "            elif op.type == 'delete':\n",
    "                # Hypothesis: incorrect (missed the word)\n",
    "                # Check null\n",
    "                idx_range = range(op.ref_start_idx, op.ref_end_idx)\n",
    "                for i in idx_range:\n",
    "                    ref_word = ref_words[i]\n",
    "                    naive_correct = (most_common_word == ref_word)\n",
    "                    \n",
    "                    if naive_correct:\n",
    "                        your_wrong_naive_correct += 1\n",
    "                    else:\n",
    "                        both_wrong += 1\n",
    "                    \n",
    "            elif op.type == 'insert':\n",
    "                # Penalty: the model made extra prediction\n",
    "                # This doesn't correspond to any reference word, so we penalize\n",
    "                # as much as possible by defaulting the naive model to be correct, and\n",
    "                # our model to be wrong.\n",
    "                idx_range = range(op.hyp_start_idx, op.hyp_end_idx)\n",
    "                for i in idx_range:\n",
    "                    your_wrong_naive_correct += 1 # maximum punishment\n",
    "\n",
    "    table = [[both_correct, your_correct_naive_wrong],\n",
    "                [your_wrong_naive_correct, both_wrong]]\n",
    "\n",
    "    # Create the data matrix\n",
    "    data = np.array(table)\n",
    "\n",
    "    col_index = pd.MultiIndex.from_tuples([\n",
    "        ('H₀ (Naive Model)', 'Correct'),\n",
    "        ('H₀ (Naive Model)', 'Incorrect')\n",
    "    ])\n",
    "\n",
    "    row_index = pd.MultiIndex.from_tuples([\n",
    "        ('H (Our Model)', 'Correct'),\n",
    "        ('H (Our Model)', 'Incorrect')\n",
    "    ])\n",
    "\n",
    "    # Create DataFrame\n",
    "    df = pd.DataFrame(data, index=row_index, columns=col_index)\n",
    "\n",
    "    mcnemar_result = mcnemar(table, exact=False, correction=True)\n",
    "    print(f\"\\nAntagonistic McNemar's Test Results:\")\n",
    "    display(df)\n",
    "    print(f\"Chi-square statistic: {mcnemar_result.statistic:.3f}\")\n",
    "    print(f\"P-value: {mcnemar_result.pvalue:.3e}\")"
   ]
  },
  {
   "cell_type": "code",
   "execution_count": 19,
   "id": "e5b034e8",
   "metadata": {},
   "outputs": [],
   "source": [
    "def evaluate_model(model_path, dataset_path):\n",
    "    import jiwer\n",
    "\n",
    "    model, processor = load_model(model_path)\n",
    "\n",
    "    def map_to_result(batch):\n",
    "        with torch.no_grad():\n",
    "            input_values = torch.tensor(batch[\"input_values\"], device=device).unsqueeze(0)\n",
    "            logits = model(input_values).logits\n",
    "\n",
    "        pred_ids = torch.argmax(logits, dim=-1)\n",
    "        batch[\"pred_str\"] = processor.batch_decode(pred_ids, spaces_between_special_tokens=True)[0]\n",
    "        batch[\"text\"] = processor.decode(batch[\"labels\"], group_tokens=False, spaces_between_special_tokens=True)\n",
    "        \n",
    "        return batch\n",
    "\n",
    "    dataset = prepare_data(dataset_path, processor)\n",
    "\n",
    "    for split in [\"train\", \"val\", \"test\"]: # Test last, used for analysis\n",
    "        results = dataset[split].map(map_to_result, remove_columns=dataset[split].column_names)\n",
    "        measures = jiwer.compute_measures(results[\"text\"], results[\"pred_str\"])\n",
    "        print(f\"{split} WER: \", measures[\"wer\"], \"W_acc: \",  1-measures[\"wer\"])    \n",
    "\n",
    "    show_random_elements(results)\n",
    "\n",
    "    num_correct = 0\n",
    "    for i in range(len(results[\"pred_str\"])):\n",
    "        pred1 = results[\"pred_str\"][i].split(\" \")[0]\n",
    "        text1 = results[\"text\"][i].split(\" \")[0]\n",
    "        if pred1 == text1:\n",
    "            num_correct += 1\n",
    "    firstWordAcc = num_correct / len(results)\n",
    "\n",
    "    print(f\"Accuracy of the first predicted token: {firstWordAcc}\")\n",
    "\n",
    "    word_substitution_matrix(results, name=model_path.split(\"/\")[-1])\n",
    "\n",
    "    antagonist_mcnemar(results)\n",
    "\n",
    "    return results"
   ]
  },
  {
   "cell_type": "markdown",
   "id": "e9a9ead6",
   "metadata": {},
   "source": [
    "## Final Results"
   ]
  },
  {
   "cell_type": "code",
   "execution_count": 20,
   "id": "5417d74e",
   "metadata": {},
   "outputs": [
    {
     "data": {
      "application/vnd.jupyter.widget-view+json": {
       "model_id": "224c83229f7f4ca7a456c3cbe6550f13",
       "version_major": 2,
       "version_minor": 0
      },
      "text/plain": [
       "Generating train split: 0 examples [00:00, ? examples/s]"
      ]
     },
     "metadata": {},
     "output_type": "display_data"
    },
    {
     "data": {
      "application/vnd.jupyter.widget-view+json": {
       "model_id": "7e2353fb4a3e45b1bc66daa94fd1f96c",
       "version_major": 2,
       "version_minor": 0
      },
      "text/plain": [
       "Generating val split: 0 examples [00:00, ? examples/s]"
      ]
     },
     "metadata": {},
     "output_type": "display_data"
    },
    {
     "data": {
      "application/vnd.jupyter.widget-view+json": {
       "model_id": "f66cdab7bc2741569163609d908920c4",
       "version_major": 2,
       "version_minor": 0
      },
      "text/plain": [
       "Generating test split: 0 examples [00:00, ? examples/s]"
      ]
     },
     "metadata": {},
     "output_type": "display_data"
    },
    {
     "name": "stdout",
     "output_type": "stream",
     "text": [
      "Expanding datasets with repetitions...\n",
      "Expanding train split...\n",
      "  train: 1119 -> 5595 examples\n",
      "Expanding val split...\n",
      "  val: 241 -> 1205 examples\n",
      "Expanding test split...\n",
      "  test: 240 -> 1200 examples\n"
     ]
    },
    {
     "data": {
      "application/vnd.jupyter.widget-view+json": {
       "model_id": "d3fce7714b00404087352bd01b826584",
       "version_major": 2,
       "version_minor": 0
      },
      "text/plain": [
       "Map:   0%|          | 0/5595 [00:00<?, ? examples/s]"
      ]
     },
     "metadata": {},
     "output_type": "display_data"
    },
    {
     "name": "stdout",
     "output_type": "stream",
     "text": [
      "train WER:  0.10886199492484872 W_acc:  0.8911380050751513\n"
     ]
    },
    {
     "data": {
      "application/vnd.jupyter.widget-view+json": {
       "model_id": "1a0b313e0e2d4dfc91e281f7309ffef1",
       "version_major": 2,
       "version_minor": 0
      },
      "text/plain": [
       "Map:   0%|          | 0/1205 [00:00<?, ? examples/s]"
      ]
     },
     "metadata": {},
     "output_type": "display_data"
    },
    {
     "name": "stdout",
     "output_type": "stream",
     "text": [
      "val WER:  0.24587912087912087 W_acc:  0.7541208791208791\n"
     ]
    },
    {
     "data": {
      "application/vnd.jupyter.widget-view+json": {
       "model_id": "47500a4505e44acf82b25587c227c74c",
       "version_major": 2,
       "version_minor": 0
      },
      "text/plain": [
       "Map:   0%|          | 0/1200 [00:00<?, ? examples/s]"
      ]
     },
     "metadata": {},
     "output_type": "display_data"
    },
    {
     "name": "stdout",
     "output_type": "stream",
     "text": [
      "test WER:  0.23392029657089897 W_acc:  0.766079703429101\n"
     ]
    },
    {
     "data": {
      "text/html": [
       "<table border=\"1\" class=\"dataframe\">\n",
       "  <thead>\n",
       "    <tr style=\"text-align: right;\">\n",
       "      <th></th>\n",
       "      <th>pred_str</th>\n",
       "      <th>text</th>\n",
       "    </tr>\n",
       "  </thead>\n",
       "  <tbody>\n",
       "    <tr>\n",
       "      <th>0</th>\n",
       "      <td>bgeu bgeu bgeu sh bgeu jal srl bgeu</td>\n",
       "      <td>bgeu bgeu bgeu sh bgeu jal srl bgeu</td>\n",
       "    </tr>\n",
       "    <tr>\n",
       "      <th>1</th>\n",
       "      <td>srl jal bgeu addi sh bgeu sh bgeu jal</td>\n",
       "      <td>srl jal bgeu addi bgeu sh bgeu jal</td>\n",
       "    </tr>\n",
       "    <tr>\n",
       "      <th>2</th>\n",
       "      <td>srl jal bgeu addi sh srl addi bgeu srl sh jal</td>\n",
       "      <td>srl jal addi addi sh srl addi bgeu srl sh jal</td>\n",
       "    </tr>\n",
       "    <tr>\n",
       "      <th>3</th>\n",
       "      <td>sh srl sh jal addi bgeu jal</td>\n",
       "      <td>sh srl sh jal bgeu bgeu jal</td>\n",
       "    </tr>\n",
       "    <tr>\n",
       "      <th>4</th>\n",
       "      <td>jal jal srl addi jal sh bgeu jal sh srl srl bgeu</td>\n",
       "      <td>jal jal srl addi jal sh bgeu jal sh bgeu srl bgeu</td>\n",
       "    </tr>\n",
       "  </tbody>\n",
       "</table>"
      ],
      "text/plain": [
       "<IPython.core.display.HTML object>"
      ]
     },
     "metadata": {},
     "output_type": "display_data"
    },
    {
     "name": "stdout",
     "output_type": "stream",
     "text": [
      "Accuracy of the first predicted token: 0.8383333333333334\n"
     ]
    },
    {
     "data": {
      "image/png": "[encoded data removed]",
      "text/plain": [
       "<Figure size 800x600 with 2 Axes>"
      ]
     },
     "metadata": {},
     "output_type": "display_data"
    },
    {
     "name": "stdout",
     "output_type": "stream",
     "text": [
      "Most common word: 'jal' with count: 2305\n",
      "\n",
      "Antagonistic McNemar's Test Results:\n"
     ]
    },
    {
     "data": {
      "text/html": [
       "<div>\n",
       "<style scoped>\n",
       "    .dataframe tbody tr th:only-of-type {\n",
       "        vertical-align: middle;\n",
       "    }\n",
       "\n",
       "    .dataframe tbody tr th {\n",
       "        vertical-align: top;\n",
       "    }\n",
       "\n",
       "    .dataframe thead tr th {\n",
       "        text-align: left;\n",
       "    }\n",
       "</style>\n",
       "<table border=\"1\" class=\"dataframe\">\n",
       "  <thead>\n",
       "    <tr>\n",
       "      <th></th>\n",
       "      <th></th>\n",
       "      <th colspan=\"2\" halign=\"left\">H₀ (Naive Model)</th>\n",
       "    </tr>\n",
       "    <tr>\n",
       "      <th></th>\n",
       "      <th></th>\n",
       "      <th>Correct</th>\n",
       "      <th>Incorrect</th>\n",
       "    </tr>\n",
       "  </thead>\n",
       "  <tbody>\n",
       "    <tr>\n",
       "      <th rowspan=\"2\" valign=\"top\">H (Our Model)</th>\n",
       "      <th>Correct</th>\n",
       "      <td>2153</td>\n",
       "      <td>6423</td>\n",
       "    </tr>\n",
       "    <tr>\n",
       "      <th>Incorrect</th>\n",
       "      <td>462</td>\n",
       "      <td>2062</td>\n",
       "    </tr>\n",
       "  </tbody>\n",
       "</table>\n",
       "</div>"
      ],
      "text/plain": [
       "                        H₀ (Naive Model)          \n",
       "                                 Correct Incorrect\n",
       "H (Our Model) Correct               2153      6423\n",
       "              Incorrect              462      2062"
      ]
     },
     "metadata": {},
     "output_type": "display_data"
    },
    {
     "name": "stdout",
     "output_type": "stream",
     "text": [
      "Chi-square statistic: 5159.274\n",
      "P-value: 0.000e+00\n"
     ]
    },
    {
     "data": {
      "text/plain": [
       "Dataset({\n",
       "    features: ['pred_str', 'text'],\n",
       "    num_rows: 1200\n",
       "})"
      ]
     },
     "execution_count": 20,
     "metadata": {},
     "output_type": "execute_result"
    }
   ],
   "source": [
    "evaluate_model(\"./runs/wav2vec2_ctc_rvi_mdb\", \"./datasets/full_rvi_mdb\")"
   ]
  }
 ],
 "metadata": {
  "kernelspec": {
   "display_name": "base",
   "language": "python",
   "name": "python3"
  },
  "language_info": {
   "codemirror_mode": {
    "name": "ipython",
    "version": 3
   },
   "file_extension": ".py",
   "mimetype": "text/x-python",
   "name": "python",
   "nbconvert_exporter": "python",
   "pygments_lexer": "ipython3",
   "version": "3.11.12"
  }
 },
 "nbformat": 4,
 "nbformat_minor": 5
}
